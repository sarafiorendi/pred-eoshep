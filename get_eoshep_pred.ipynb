{
 "cells": [
  {
   "cell_type": "code",
   "execution_count": 50,
   "id": "d1a5b70e",
   "metadata": {},
   "outputs": [],
   "source": [
    "import eos\n",
    "import numpy as np\n",
    "import pandas as pd\n",
    "pd.options.mode.chained_assignment = None  \n",
    "import itertools\n",
    "\n",
    "import matplotlib.pyplot as plt\n",
    "import uproot\n",
    "\n",
    "from math import sqrt\n",
    "sqrt2 = sqrt(2)\n"
   ]
  },
  {
   "cell_type": "code",
   "execution_count": 51,
   "id": "28f9d84d",
   "metadata": {},
   "outputs": [],
   "source": [
    "analysis_args = {\n",
    "    'priors': [\n",
    "      { 'parameter': 'B->K^*::alpha^A0_0@BSZ2015', 'min':  0.20945, 'max':  0.47483,  'type': 'uniform'},\n",
    "      { 'parameter': 'B->K^*::alpha^A0_1@BSZ2015', 'min': -2.13775, 'max': -0.15707,  'type': 'uniform'},\n",
    "      { 'parameter': 'B->K^*::alpha^A0_2@BSZ2015', 'min': -6.53063, 'max': 11.27615,  'type': 'uniform'},\n",
    "      { 'parameter': 'B->K^*::alpha^A1_0@BSZ2015', 'min':  0.19330, 'max':  0.38524,  'type': 'uniform'},\n",
    "      { 'parameter': 'B->K^*::alpha^A1_1@BSZ2015', 'min': -0.18707, 'max':  1.10697,  'type': 'uniform'},\n",
    "      { 'parameter': 'B->K^*::alpha^A1_2@BSZ2015', 'min': -2.48532, 'max':  4.93367,  'type': 'uniform'},\n",
    "      { 'parameter': 'B->K^*::alpha^A12_1@BSZ2015', 'min': -1.15061, 'max':  2.25292,  'type': 'uniform'},\n",
    "      { 'parameter': 'B->K^*::alpha^A12_2@BSZ2015', 'min': -9.71557, 'max': 10.87183,  'type': 'uniform'},\n",
    "      { 'parameter': 'B->K^*::alpha^V_0@BSZ2015', 'min':  0.21932, 'max':  0.50628,  'type': 'uniform'},\n",
    "      { 'parameter': 'B->K^*::alpha^V_1@BSZ2015', 'min': -1.93848, 'max': -0.24015,  'type': 'uniform'},\n",
    "      { 'parameter': 'B->K^*::alpha^V_2@BSZ2015', 'min': -7.37332, 'max': 12.97916,  'type': 'uniform'},\n",
    "      { 'parameter': 'B->K^*::alpha^T1_0@BSZ2015', 'min':  0.21448, 'max':  0.42400,  'type': 'uniform'},\n",
    "      { 'parameter': 'B->K^*::alpha^T1_1@BSZ2015', 'min': -1.64874, 'max': -0.27503,  'type': 'uniform'},\n",
    "      { 'parameter': 'B->K^*::alpha^T1_2@BSZ2015', 'min': -4.25767, 'max':  8.44379,  'type': 'uniform'},\n",
    "      { 'parameter': 'B->K^*::alpha^T2_1@BSZ2015', 'min': -0.30810, 'max':  1.49458,  'type': 'uniform'},\n",
    "      { 'parameter': 'B->K^*::alpha^T2_2@BSZ2015', 'min': -3.25052, 'max':  6.60961,  'type': 'uniform'},\n",
    "      { 'parameter': 'B->K^*::alpha^T23_0@BSZ2015', 'min':  0.44892, 'max':  0.79355,  'type': 'uniform'},\n",
    "      { 'parameter': 'B->K^*::alpha^T23_1@BSZ2015', 'min': -0.58572, 'max':  2.53233,  'type': 'uniform'},\n",
    "      { 'parameter': 'B->K^*::alpha^T23_2@BSZ2015', 'min': -10.28053, 'max': 13.92309,  'type': 'uniform'},\n",
    "    ],\n",
    "    'likelihood': [\n",
    "        'B->K^*::FormFactors[A_0,A_1,A_2,V,T_1,T_2,T_23]@GRvDV:2021A',\n",
    "        'B->K^*::V+A_0+A_1+A_12@HLMW:2015A',\n",
    "        'B->K^*::T_1+T_2+T_23@HLMW:2015A',\n",
    "    ]\n",
    "}\n",
    "analysis = eos.Analysis(**analysis_args)"
   ]
  },
  {
   "cell_type": "code",
   "execution_count": 52,
   "id": "ca713f62",
   "metadata": {},
   "outputs": [],
   "source": [
    "## define our q2 bins\n",
    "Fl_q2values = np.ndarray((5,), buffer=np.array([0., 1,2,4.3, 6., 8.68]),\n",
    "          offset=np.float_().itemsize,\n",
    "           dtype=float) # offset = 1*itemsize, i.e. skip first element\n"
   ]
  },
  {
   "cell_type": "code",
   "execution_count": 53,
   "id": "97671038",
   "metadata": {},
   "outputs": [
    {
     "data": {
      "text/plain": [
       "4"
      ]
     },
     "execution_count": 53,
     "metadata": {},
     "output_type": "execute_result"
    }
   ],
   "source": [
    "## now get the sampling for each bin separately\n",
    "Fl_obs = [eos.Observable.make(\n",
    "            'B->K^*ll::F_L', \n",
    "             analysis.parameters, \n",
    "             eos.Kinematics(q2_min=q2min, q2_max=q2max ),\n",
    "             eos.Options({'l':'mu', 'tag':'GvDV2020', 'q':'d'}))\n",
    "           for q2min,q2max in zip(Fl_q2values[:-1], Fl_q2values[1:])]\n",
    "len(Fl_obs)"
   ]
  },
  {
   "cell_type": "code",
   "execution_count": 54,
   "id": "4d271c67",
   "metadata": {},
   "outputs": [
    {
     "name": "stderr",
     "output_type": "stream",
     "text": [
      "[ObservableEntries.insert_or_assign] Entry for observable B->K^*ll::P1 has been replaced.\n",
      "[ObservableEntries.insert_or_assign] Entry for observable B->K^*ll::P2 has been replaced.\n",
      "[ObservableEntries.insert_or_assign] Entry for observable B->K^*ll::P3 has been replaced.\n",
      "[ObservableEntries.insert_or_assign] Entry for observable B->K^*ll::P4p has been replaced.\n",
      "[ObservableEntries.insert_or_assign] Entry for observable B->K^*ll::P5p has been replaced.\n",
      "[ObservableEntries.insert_or_assign] Entry for observable B->K^*ll::P6p has been replaced.\n",
      "[ObservableEntries.insert_or_assign] Entry for observable B->K^*ll::P8p has been replaced.\n"
     ]
    }
   ],
   "source": [
    "## now include new observables\n",
    "## eos.Observables().insert(name, latex, unit, options, expression)\n",
    "# B->K^*ll::S_3 ## but there is also a B->K^*ll::S_3_LHCB\n",
    "\n",
    "eos.Observables().insert('B->K^*ll::P1', 'P1', eos.Unit.Unity(), eos.Options(),\n",
    "                         '(2 * <<B->K^*ll::S_3;l=mu,tag=GvDV2020,q=d>>) / \\\n",
    "                          (1 - <<B->K^*ll::F_L;l=mu,tag=GvDV2020,q=d>>)')\n",
    "\n",
    "eos.Observables().insert('B->K^*ll::P2', 'P2', eos.Unit.Unity(), eos.Options(),\n",
    "                         '(2 * <<B->K^*ll::A_FB;l=mu,tag=GvDV2020,q=d>>) / \\\n",
    "                          (3 * (1 - <<B->K^*ll::F_L;l=mu,tag=GvDV2020,q=d>>))')\n",
    "\n",
    "## multiply by 2 to compare with our definition\n",
    "eos.Observables().insert('B->K^*ll::P3', 'P3', eos.Unit.Unity(), eos.Options(),\n",
    "                         '(-2 * <<B->K^*ll::S_9;l=mu,tag=GvDV2020,q=d>>) / \\\n",
    "                          ( 3 * (1 - <<B->K^*ll::F_L;l=mu,tag=GvDV2020,q=d>>))')\n",
    "\n",
    "eos.Observables().insert('B->K^*ll::P4p', 'P4p', eos.Unit.Unity(), eos.Options(),\n",
    "                         '(<<B->K^*ll::S_4;l=mu,tag=GvDV2020,q=d>>) / \\\n",
    "                          ((<<B->K^*ll::F_L;l=mu,tag=GvDV2020,q=d>> * (1 - <<B->K^*ll::F_L;l=mu,tag=GvDV2020,q=d>>))^0.5)')\n",
    "\n",
    "eos.Observables().insert('B->K^*ll::P5p', 'P5p', eos.Unit.Unity(), eos.Options(),\n",
    "                         '(<<B->K^*ll::S_5;l=mu,tag=GvDV2020,q=d>>) / \\\n",
    "                          ((<<B->K^*ll::F_L;l=mu,tag=GvDV2020,q=d>> * (1 - <<B->K^*ll::F_L;l=mu,tag=GvDV2020,q=d>>))^0.5)')\n",
    "\n",
    "## multiply by -1 to compare with our definition\n",
    "eos.Observables().insert('B->K^*ll::P6p', 'P6p', eos.Unit.Unity(), eos.Options(),\n",
    "                         '(-1 * <<B->K^*ll::S_7;l=mu,tag=GvDV2020,q=d>>) / \\\n",
    "                          ((<<B->K^*ll::F_L;l=mu,tag=GvDV2020,q=d>> * (1 - <<B->K^*ll::F_L;l=mu,tag=GvDV2020,q=d>>))^0.5)')\n",
    "\n",
    "## multiply by 2 to compare with our definition\n",
    "eos.Observables().insert('B->K^*ll::P8p', 'P8p', eos.Unit.Unity(), eos.Options(),\n",
    "                         '(2 * <<B->K^*ll::S_8;l=mu,tag=GvDV2020,q=d>>) / \\\n",
    "                          ((<<B->K^*ll::F_L;l=mu,tag=GvDV2020,q=d>> * (1 - <<B->K^*ll::F_L;l=mu,tag=GvDV2020,q=d>>))^0.5)')\n"
   ]
  },
  {
   "cell_type": "code",
   "execution_count": 55,
   "id": "57e28dfc",
   "metadata": {},
   "outputs": [],
   "source": [
    "P1_obs = [eos.Observable.make(\n",
    "            'B->K^*ll::P1', \n",
    "             analysis.parameters, \n",
    "             eos.Kinematics(q2_min=q2min, q2_max=q2max ),\n",
    "             eos.Options({'l':'mu', 'tag':'GvDV2020', 'q':'d'}))\n",
    "           for q2min,q2max in zip(Fl_q2values[:-1], Fl_q2values[1:])]\n",
    "\n",
    "\n",
    "P2_obs = [eos.Observable.make(\n",
    "            'B->K^*ll::P2', \n",
    "             analysis.parameters, \n",
    "             eos.Kinematics(q2_min=q2min, q2_max=q2max ),\n",
    "             eos.Options({'l':'mu', 'tag':'GvDV2020', 'q':'d'}))\n",
    "           for q2min,q2max in zip(Fl_q2values[:-1], Fl_q2values[1:])]\n",
    "\n",
    "P3_obs = [eos.Observable.make(\n",
    "            'B->K^*ll::P3', \n",
    "             analysis.parameters, \n",
    "             eos.Kinematics(q2_min=q2min, q2_max=q2max ),\n",
    "             eos.Options({'l':'mu', 'tag':'GvDV2020', 'q':'d'}))\n",
    "           for q2min,q2max in zip(Fl_q2values[:-1], Fl_q2values[1:])]\n",
    "\n",
    "P4p_obs = [eos.Observable.make(\n",
    "            'B->K^*ll::P4p', \n",
    "             analysis.parameters, \n",
    "             eos.Kinematics(q2_min=q2min, q2_max=q2max ),\n",
    "             eos.Options({'l':'mu', 'tag':'GvDV2020', 'q':'d'}))\n",
    "           for q2min,q2max in zip(Fl_q2values[:-1], Fl_q2values[1:])]\n",
    "\n",
    "P5p_obs = [eos.Observable.make(\n",
    "            'B->K^*ll::P5p', \n",
    "             analysis.parameters, \n",
    "             eos.Kinematics(q2_min=q2min, q2_max=q2max ),\n",
    "             eos.Options({'l':'mu', 'tag':'GvDV2020', 'q':'d'}))\n",
    "           for q2min,q2max in zip(Fl_q2values[:-1], Fl_q2values[1:])]\n",
    "\n",
    "P6p_obs = [eos.Observable.make(\n",
    "            'B->K^*ll::P6p', \n",
    "             analysis.parameters, \n",
    "             eos.Kinematics(q2_min=q2min, q2_max=q2max ),\n",
    "             eos.Options({'l':'mu', 'tag':'GvDV2020', 'q':'d'}))\n",
    "           for q2min,q2max in zip(Fl_q2values[:-1], Fl_q2values[1:])]\n",
    "\n",
    "P8p_obs = [eos.Observable.make(\n",
    "            'B->K^*ll::P8p', \n",
    "             analysis.parameters, \n",
    "             eos.Kinematics(q2_min=q2min, q2_max=q2max ),\n",
    "             eos.Options({'l':'mu', 'tag':'GvDV2020', 'q':'d'}))\n",
    "           for q2min,q2max in zip(Fl_q2values[:-1], Fl_q2values[1:])]\n"
   ]
  },
  {
   "cell_type": "code",
   "execution_count": 65,
   "id": "14d8dd5a",
   "metadata": {},
   "outputs": [],
   "source": [
    "n_samples = 500\n",
    "pre_N = 100\n",
    "# par_list = ['P3', 'P6p', 'P8p']\n",
    "# obs_list = [P3_obs, P6p_obs, P8p_obs]\n",
    "\n",
    "par_list = ['FL', 'P1', 'P2','P3', 'P4p', 'P5p', 'P6p', 'P8p']\n",
    "obs_list = [Fl_obs, P1_obs, P2_obs, P3_obs, P4p_obs, P5p_obs, P6p_obs, P8p_obs]\n",
    "\n",
    "par_samples = []\n",
    "_samples = []\n",
    "obs_samples = []"
   ]
  },
  {
   "cell_type": "code",
   "execution_count": 66,
   "id": "e34214ac",
   "metadata": {},
   "outputs": [
    {
     "name": "stdout",
     "output_type": "stream",
     "text": [
      "generating sample  FL\n"
     ]
    },
    {
     "data": {
      "application/vnd.jupyter.widget-view+json": {
       "model_id": "",
       "version_major": 2,
       "version_minor": 0
      },
      "text/plain": [
       "Pre-runs:   0%|          | 0/3 [00:00<?, ?it/s]"
      ]
     },
     "metadata": {},
     "output_type": "display_data"
    },
    {
     "name": "stderr",
     "output_type": "stream",
     "text": [
      "Markov chain self adaptation failed; trying diagonalization\n",
      "Diagonalization succeeded\n"
     ]
    },
    {
     "data": {
      "application/vnd.jupyter.widget-view+json": {
       "model_id": "",
       "version_major": 2,
       "version_minor": 0
      },
      "text/plain": [
       "Main run:   0%|          | 0/100 [00:00<?, ?it/s]"
      ]
     },
     "metadata": {},
     "output_type": "display_data"
    },
    {
     "name": "stdout",
     "output_type": "stream",
     "text": [
      "generating sample  P1\n"
     ]
    },
    {
     "data": {
      "application/vnd.jupyter.widget-view+json": {
       "model_id": "",
       "version_major": 2,
       "version_minor": 0
      },
      "text/plain": [
       "Pre-runs:   0%|          | 0/3 [00:00<?, ?it/s]"
      ]
     },
     "metadata": {},
     "output_type": "display_data"
    },
    {
     "name": "stderr",
     "output_type": "stream",
     "text": [
      "Markov chain self adaptation failed; trying diagonalization\n",
      "Diagonalization succeeded\n"
     ]
    },
    {
     "data": {
      "application/vnd.jupyter.widget-view+json": {
       "model_id": "",
       "version_major": 2,
       "version_minor": 0
      },
      "text/plain": [
       "Main run:   0%|          | 0/100 [00:00<?, ?it/s]"
      ]
     },
     "metadata": {},
     "output_type": "display_data"
    },
    {
     "name": "stdout",
     "output_type": "stream",
     "text": [
      "generating sample  P2\n"
     ]
    },
    {
     "data": {
      "application/vnd.jupyter.widget-view+json": {
       "model_id": "",
       "version_major": 2,
       "version_minor": 0
      },
      "text/plain": [
       "Pre-runs:   0%|          | 0/3 [00:00<?, ?it/s]"
      ]
     },
     "metadata": {},
     "output_type": "display_data"
    },
    {
     "name": "stderr",
     "output_type": "stream",
     "text": [
      "Markov chain self adaptation failed; trying diagonalization\n",
      "Diagonalization succeeded\n",
      "Markov chain self adaptation failed; trying diagonalization\n",
      "Diagonalization succeeded\n"
     ]
    },
    {
     "data": {
      "application/vnd.jupyter.widget-view+json": {
       "model_id": "",
       "version_major": 2,
       "version_minor": 0
      },
      "text/plain": [
       "Main run:   0%|          | 0/100 [00:00<?, ?it/s]"
      ]
     },
     "metadata": {},
     "output_type": "display_data"
    },
    {
     "name": "stdout",
     "output_type": "stream",
     "text": [
      "generating sample  P3\n"
     ]
    },
    {
     "data": {
      "application/vnd.jupyter.widget-view+json": {
       "model_id": "",
       "version_major": 2,
       "version_minor": 0
      },
      "text/plain": [
       "Pre-runs:   0%|          | 0/3 [00:00<?, ?it/s]"
      ]
     },
     "metadata": {},
     "output_type": "display_data"
    },
    {
     "name": "stderr",
     "output_type": "stream",
     "text": [
      "Markov chain self adaptation failed; trying diagonalization\n",
      "Diagonalization succeeded\n"
     ]
    },
    {
     "data": {
      "application/vnd.jupyter.widget-view+json": {
       "model_id": "",
       "version_major": 2,
       "version_minor": 0
      },
      "text/plain": [
       "Main run:   0%|          | 0/100 [00:00<?, ?it/s]"
      ]
     },
     "metadata": {},
     "output_type": "display_data"
    },
    {
     "name": "stdout",
     "output_type": "stream",
     "text": [
      "generating sample  P4p\n"
     ]
    },
    {
     "data": {
      "application/vnd.jupyter.widget-view+json": {
       "model_id": "",
       "version_major": 2,
       "version_minor": 0
      },
      "text/plain": [
       "Pre-runs:   0%|          | 0/3 [00:00<?, ?it/s]"
      ]
     },
     "metadata": {},
     "output_type": "display_data"
    },
    {
     "name": "stderr",
     "output_type": "stream",
     "text": [
      "Markov chain self adaptation failed; trying diagonalization\n",
      "Diagonalization succeeded\n"
     ]
    },
    {
     "data": {
      "application/vnd.jupyter.widget-view+json": {
       "model_id": "",
       "version_major": 2,
       "version_minor": 0
      },
      "text/plain": [
       "Main run:   0%|          | 0/100 [00:00<?, ?it/s]"
      ]
     },
     "metadata": {},
     "output_type": "display_data"
    },
    {
     "name": "stdout",
     "output_type": "stream",
     "text": [
      "generating sample  P5p\n"
     ]
    },
    {
     "data": {
      "application/vnd.jupyter.widget-view+json": {
       "model_id": "",
       "version_major": 2,
       "version_minor": 0
      },
      "text/plain": [
       "Pre-runs:   0%|          | 0/3 [00:00<?, ?it/s]"
      ]
     },
     "metadata": {},
     "output_type": "display_data"
    },
    {
     "name": "stderr",
     "output_type": "stream",
     "text": [
      "Markov chain self adaptation failed; trying diagonalization\n",
      "Diagonalization succeeded\n"
     ]
    },
    {
     "data": {
      "application/vnd.jupyter.widget-view+json": {
       "model_id": "",
       "version_major": 2,
       "version_minor": 0
      },
      "text/plain": [
       "Main run:   0%|          | 0/100 [00:00<?, ?it/s]"
      ]
     },
     "metadata": {},
     "output_type": "display_data"
    },
    {
     "name": "stdout",
     "output_type": "stream",
     "text": [
      "generating sample  P6p\n"
     ]
    },
    {
     "data": {
      "application/vnd.jupyter.widget-view+json": {
       "model_id": "",
       "version_major": 2,
       "version_minor": 0
      },
      "text/plain": [
       "Pre-runs:   0%|          | 0/3 [00:00<?, ?it/s]"
      ]
     },
     "metadata": {},
     "output_type": "display_data"
    },
    {
     "name": "stderr",
     "output_type": "stream",
     "text": [
      "Markov chain self adaptation failed; trying diagonalization\n",
      "Diagonalization succeeded\n"
     ]
    },
    {
     "data": {
      "application/vnd.jupyter.widget-view+json": {
       "model_id": "",
       "version_major": 2,
       "version_minor": 0
      },
      "text/plain": [
       "Main run:   0%|          | 0/100 [00:00<?, ?it/s]"
      ]
     },
     "metadata": {},
     "output_type": "display_data"
    },
    {
     "name": "stdout",
     "output_type": "stream",
     "text": [
      "generating sample  P8p\n"
     ]
    },
    {
     "data": {
      "application/vnd.jupyter.widget-view+json": {
       "model_id": "",
       "version_major": 2,
       "version_minor": 0
      },
      "text/plain": [
       "Pre-runs:   0%|          | 0/3 [00:00<?, ?it/s]"
      ]
     },
     "metadata": {},
     "output_type": "display_data"
    },
    {
     "name": "stderr",
     "output_type": "stream",
     "text": [
      "Markov chain self adaptation failed; trying diagonalization\n",
      "Diagonalization succeeded\n"
     ]
    },
    {
     "data": {
      "application/vnd.jupyter.widget-view+json": {
       "model_id": "",
       "version_major": 2,
       "version_minor": 0
      },
      "text/plain": [
       "Main run:   0%|          | 0/100 [00:00<?, ?it/s]"
      ]
     },
     "metadata": {},
     "output_type": "display_data"
    }
   ],
   "source": [
    "for i,ipar in enumerate(par_list):\n",
    "    print ('generating sample ', ipar)\n",
    "    tmp_parameter_samples, tmp_, tmp_observable_samples = analysis.sample(\\\n",
    "            N=n_samples, \\\n",
    "            pre_N=pre_N, \\\n",
    "            observables=obs_list[i])\n",
    "    par_samples.append(tmp_parameter_samples)\n",
    "    _samples.append(tmp_)\n",
    "    obs_samples.append(tmp_observable_samples)"
   ]
  },
  {
   "cell_type": "code",
   "execution_count": 43,
   "id": "871fb727",
   "metadata": {},
   "outputs": [],
   "source": []
  },
  {
   "cell_type": "code",
   "execution_count": 67,
   "id": "00409b49",
   "metadata": {},
   "outputs": [
    {
     "data": {
      "image/png": "[encoded data removed]",
      "text/plain": [
       "<Figure size 432x288 with 1 Axes>"
      ]
     },
     "metadata": {
      "needs_background": "light"
     },
     "output_type": "display_data"
    },
    {
     "data": {
      "image/png": "[encoded data removed]",
      "text/plain": [
       "<Figure size 432x288 with 1 Axes>"
      ]
     },
     "metadata": {
      "needs_background": "light"
     },
     "output_type": "display_data"
    },
    {
     "data": {
      "image/png": "[encoded data removed]",
      "text/plain": [
       "<Figure size 432x288 with 1 Axes>"
      ]
     },
     "metadata": {
      "needs_background": "light"
     },
     "output_type": "display_data"
    },
    {
     "data": {
      "image/png": "[encoded data removed]",
      "text/plain": [
       "<Figure size 432x288 with 1 Axes>"
      ]
     },
     "metadata": {
      "needs_background": "light"
     },
     "output_type": "display_data"
    },
    {
     "data": {
      "image/png": "[encoded data removed]",
      "text/plain": [
       "<Figure size 432x288 with 1 Axes>"
      ]
     },
     "metadata": {
      "needs_background": "light"
     },
     "output_type": "display_data"
    },
    {
     "data": {
      "image/png": "[encoded data removed]",
      "text/plain": [
       "<Figure size 432x288 with 1 Axes>"
      ]
     },
     "metadata": {
      "needs_background": "light"
     },
     "output_type": "display_data"
    },
    {
     "data": {
      "image/png": "[encoded data removed]",
      "text/plain": [
       "<Figure size 432x288 with 1 Axes>"
      ]
     },
     "metadata": {
      "needs_background": "light"
     },
     "output_type": "display_data"
    },
    {
     "data": {
      "image/png": "[encoded data removed]",
      "text/plain": [
       "<Figure size 432x288 with 1 Axes>"
      ]
     },
     "metadata": {
      "needs_background": "light"
     },
     "output_type": "display_data"
    }
   ],
   "source": [
    "x_range_dict = {\n",
    "    'FL': [0,1],\n",
    "    'P1': [-1,1],\n",
    "    'P2': [-0.5,0.5],\n",
    "    'P3': [-0.05,0.05],\n",
    "    'P4p': [-sqrt2,sqrt2],\n",
    "    'P5p': [-sqrt2,sqrt2],\n",
    "    'P6p': [-0.1,0.1],\n",
    "    'P8p': [-0.1,0.1],\n",
    "}\n",
    "\n",
    "for i,ipar in enumerate(par_list):\n",
    "  plot_args = {\n",
    "     'plot': {\n",
    "         'x': { 'label': r'$%s$'%ipar,  'range': [x_range_dict[ipar][0],  x_range_dict[ipar][1]] },\n",
    "         'legend': { 'location': 'upper center' }\n",
    "     },\n",
    "     'contents': [\n",
    "         { 'label': r'$%s$, bin0'%ipar,'type': 'histogram', 'bins': 10, 'data': { 'samples': obs_samples[i][:, 0] }},\n",
    "         { 'label': r'$%s$, bin1'%ipar,'type': 'histogram', 'bins': 30, 'data': { 'samples': obs_samples[i][:, 1] }},\n",
    "         { 'label': r'$%s$, bin2'%ipar,'type': 'histogram', 'bins': 30, 'data': { 'samples': obs_samples[i][:, 2] }},\n",
    "         { 'label': r'$%s$, bin3'%ipar,'type': 'histogram', 'bins': 30, 'data': { 'samples': obs_samples[i][:, 3] }},\n",
    "     ]\n",
    "   }\n",
    "  eos.plot.Plotter(plot_args).plot()"
   ]
  },
  {
   "cell_type": "code",
   "execution_count": 68,
   "id": "2b88e168",
   "metadata": {},
   "outputs": [],
   "source": [
    "value_list = []\n",
    "for j,ipar in enumerate(par_list):\n",
    "    for i,q2 in enumerate(Fl_q2values[:-1]):\n",
    "        mean=np.average(obs_samples[j][:,i])\n",
    "        std=np.sqrt(np.var(obs_samples[j][:, i]))\n",
    "        tmp_list = [ ipar,\n",
    "                     mean,\n",
    "                     std,\n",
    "                     q2,\n",
    "                     Fl_q2values[i+1],\n",
    "                     np.where(Fl_q2values==q2)[0][0]                \n",
    "                   ]\n",
    "        value_list.append(tmp_list)"
   ]
  },
  {
   "cell_type": "code",
   "execution_count": 69,
   "id": "f4667052",
   "metadata": {},
   "outputs": [],
   "source": [
    "all_df = pd.DataFrame(value_list)\n",
    "all_df.rename(columns={0 : 'parname', \n",
    "                   1 : 'value',\\\n",
    "                   2 : 'unc',\\\n",
    "                   3 : 'q2min',\\\n",
    "                   4 : 'q2max',\\\n",
    "                   5 : 'q2bin',\\\n",
    "                   }, inplace=True)    "
   ]
  },
  {
   "cell_type": "code",
   "execution_count": 70,
   "id": "e27f47fc",
   "metadata": {},
   "outputs": [],
   "source": [
    "all_df['q2'] = (all_df['q2max'] - all_df['q2min'])/2 + all_df['q2min']\n",
    "all_df['q2err'] = (all_df['q2max'] - all_df['q2min'])/2"
   ]
  },
  {
   "cell_type": "code",
   "execution_count": 71,
   "id": "9f364be5",
   "metadata": {},
   "outputs": [],
   "source": [
    "table = all_df.pivot(index=['q2min','q2max'], columns=['parname'], values=['value','unc'])"
   ]
  },
  {
   "cell_type": "code",
   "execution_count": 72,
   "id": "a994db39",
   "metadata": {},
   "outputs": [],
   "source": [
    "from matplotlib.patches import Rectangle\n",
    "from matplotlib.collections import PatchCollection\n",
    "\n",
    "def make_error_boxes( ax, xdata, ydata, xerror, yerror, facecolor='r',\n",
    "                      edgecolor='None', alpha=0.5 ):\n",
    "\n",
    "    # Loop over data points; create box from errors at each point\n",
    "    errorboxes = [ Rectangle( (x-xe, y-ye), xe*2, ye*2 )\n",
    "                   for x, y, xe, ye in zip(xdata, ydata, xerror, yerror) ]\n",
    "\n",
    "    # Create patch collection with specified colour/alpha\n",
    "    pc = PatchCollection(errorboxes, facecolor=facecolor, alpha=alpha,\n",
    "                         edgecolor=edgecolor)\n",
    "\n",
    "    # Add collection to axes\n",
    "    ax.add_collection(pc)\n"
   ]
  },
  {
   "cell_type": "code",
   "execution_count": 73,
   "id": "9e074a83",
   "metadata": {},
   "outputs": [
    {
     "data": {
      "image/png": "[encoded data removed]",
      "text/plain": [
       "<Figure size 504x288 with 1 Axes>"
      ]
     },
     "metadata": {
      "needs_background": "light"
     },
     "output_type": "display_data"
    },
    {
     "data": {
      "image/png": "[encoded data removed]",
      "text/plain": [
       "<Figure size 504x288 with 1 Axes>"
      ]
     },
     "metadata": {
      "needs_background": "light"
     },
     "output_type": "display_data"
    },
    {
     "data": {
      "image/png": "[encoded data removed]",
      "text/plain": [
       "<Figure size 504x288 with 1 Axes>"
      ]
     },
     "metadata": {
      "needs_background": "light"
     },
     "output_type": "display_data"
    },
    {
     "data": {
      "image/png": "[encoded data removed]",
      "text/plain": [
       "<Figure size 504x288 with 1 Axes>"
      ]
     },
     "metadata": {
      "needs_background": "light"
     },
     "output_type": "display_data"
    },
    {
     "data": {
      "image/png": "[encoded data removed]",
      "text/plain": [
       "<Figure size 504x288 with 1 Axes>"
      ]
     },
     "metadata": {
      "needs_background": "light"
     },
     "output_type": "display_data"
    },
    {
     "data": {
      "image/png": "[encoded data removed]",
      "text/plain": [
       "<Figure size 504x288 with 1 Axes>"
      ]
     },
     "metadata": {
      "needs_background": "light"
     },
     "output_type": "display_data"
    },
    {
     "data": {
      "image/png": "[encoded data removed]",
      "text/plain": [
       "<Figure size 504x288 with 1 Axes>"
      ]
     },
     "metadata": {
      "needs_background": "light"
     },
     "output_type": "display_data"
    },
    {
     "data": {
      "image/png": "[encoded data removed]",
      "text/plain": [
       "<Figure size 504x288 with 1 Axes>"
      ]
     },
     "metadata": {
      "needs_background": "light"
     },
     "output_type": "display_data"
    }
   ],
   "source": [
    "q2min = [item[0] for item in table.index.values]\n",
    "q2max = [item[1] for item in table.index.values]\n",
    "q2 = [(item[1] - item[0])/2 + item[0] for item in table.index.values]\n",
    "q2err = [(item[1] - item[0])/2 for item in table.index.values]\n",
    "\n",
    "x = q2\n",
    "xerr = q2err\n",
    "\n",
    "for j,ipar in enumerate(par_list):\n",
    "    y = getattr(table.value, ipar)\n",
    "    yerr = getattr(table.unc, ipar)\n",
    "\n",
    "    fig, ax = plt.subplots(figsize=(7, 4))\n",
    "    \n",
    "    ax.errorbar(x, y, xerr=xerr, yerr=yerr, linestyle='none')\n",
    "    _ = make_error_boxes(ax, x, y, xerr, yerr,'g')\n",
    "    \n",
    "    ax.set_title('Prediction from EOS')\n",
    "    ax.set_xlabel('$q^2$')\n",
    "    ax.set_ylabel('$%s$'%ipar)\n",
    "    plt.show()"
   ]
  },
  {
   "cell_type": "code",
   "execution_count": null,
   "id": "869f7916",
   "metadata": {},
   "outputs": [],
   "source": []
  }
 ],
 "metadata": {
  "kernelspec": {
   "display_name": "Python 3",
   "language": "python",
   "name": "python3"
  },
  "language_info": {
   "codemirror_mode": {
    "name": "ipython",
    "version": 3
   },
   "file_extension": ".py",
   "mimetype": "text/x-python",
   "name": "python",
   "nbconvert_exporter": "python",
   "pygments_lexer": "ipython3",
   "version": "3.9.12"
  }
 },
 "nbformat": 4,
 "nbformat_minor": 5
}
